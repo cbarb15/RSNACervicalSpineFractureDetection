{
 "cells": [
  {
   "cell_type": "code",
   "execution_count": 1,
   "outputs": [
    {
     "name": "stderr",
     "output_type": "stream",
     "text": [
      "2022-10-05 20:26:00.964992: W tensorflow/stream_executor/platform/default/dso_loader.cc:64] Could not load dynamic library 'libcudart.so.11.0'; dlerror: libcudart.so.11.0: cannot open shared object file: No such file or directory\n",
      "2022-10-05 20:26:00.965010: I tensorflow/stream_executor/cuda/cudart_stub.cc:29] Ignore above cudart dlerror if you do not have a GPU set up on your machine.\n"
     ]
    }
   ],
   "source": [
    "import keras.losses\n",
    "import numpy as np\n",
    "import pandas as pd\n",
    "from pydicom import dcmread\n",
    "import pydicom.pixel_data_handlers\n",
    "import nibabel as nib\n",
    "import os\n",
    "import tensorflow as tf\n",
    "import tensorflow_io as tfio\n",
    "from keras.layers import CategoryEncoding, IntegerLookup\n",
    "import matplotlib.pyplot as plt\n",
    "import re\n",
    "\n",
    "CURRENT_DIR_PATH = os.getcwd()\n",
    "\n",
    "TRAIN_IMAGE_PATH = os.path.join(CURRENT_DIR_PATH, \"train_images\")\n",
    "SEGMENTATIONS_PATH = os.path.join(CURRENT_DIR_PATH, \"segmentations\")\n",
    "TRAIN_CSV_PATH = os.path.join(CURRENT_DIR_PATH, \"train.csv\")\n",
    "\n",
    "AUTOTUNE = tf.data.experimental.AUTOTUNE\n",
    "batch_size = 75"
   ],
   "metadata": {
    "collapsed": false,
    "pycharm": {
     "name": "#%%\n"
    }
   }
  },
  {
   "cell_type": "code",
   "execution_count": 2,
   "outputs": [
    {
     "name": "stderr",
     "output_type": "stream",
     "text": [
      "2022-10-05 20:26:09.404582: W tensorflow/stream_executor/platform/default/dso_loader.cc:64] Could not load dynamic library 'libcuda.so.1'; dlerror: libcuda.so.1: cannot open shared object file: No such file or directory\n",
      "2022-10-05 20:26:09.404603: W tensorflow/stream_executor/cuda/cuda_driver.cc:269] failed call to cuInit: UNKNOWN ERROR (303)\n",
      "2022-10-05 20:26:09.404618: I tensorflow/stream_executor/cuda/cuda_diagnostics.cc:156] kernel driver does not appear to be running on this host (cbarb15-desktop): /proc/driver/nvidia/version does not exist\n",
      "2022-10-05 20:26:09.404923: I tensorflow/core/platform/cpu_feature_guard.cc:193] This TensorFlow binary is optimized with oneAPI Deep Neural Network Library (oneDNN) to use the following CPU instructions in performance-critical operations:  AVX2 FMA\n",
      "To enable them in other operations, rebuild TensorFlow with the appropriate compiler flags.\n"
     ]
    }
   ],
   "source": [
    "def atoi(text):\n",
    "    return int(text) if text.isdigit() else text\n",
    "\n",
    "def natural_keys(text):\n",
    "    return [atoi(c) for c in re.split(r'(\\d+)', text)]\n",
    "\n",
    "def pad_list(labels_to_pad):\n",
    "    return [labels_to_pad[len(labels_to_pad) - 1] if i >= len(labels_to_pad) else labels_to_pad[i] for i in range(0, 8)]\n",
    "\n",
    "def create_categories(labels_for_categories):\n",
    "    vocab = [1, 2, 3, 4, 5, 6, 7]\n",
    "    index = IntegerLookup(vocabulary=vocab)\n",
    "    encoder = CategoryEncoding(num_tokens=index.vocabulary_size(), output_mode='multi_hot')\n",
    "    categories = encoder(index(labels_for_categories))\n",
    "\n",
    "    return categories\n",
    "\n",
    "def decode_img(path):\n",
    "    with open(path, 'rb') as image_file:\n",
    "        ds = dcmread(image_file)\n",
    "        img = ds.pixel_array\n",
    "        img = img / 255\n",
    "        img = tf.reshape(img, [512, 512, 1])\n",
    "\n",
    "    return img\n",
    "\n",
    "def labels_for_image(vertebrae):\n",
    "    vertebrae_for_image = list(filter(lambda vertebra: vertebra > 0, vertebrae))\n",
    "    labels_to_pad = list((map(lambda vertebra: int(vertebra), vertebrae_for_image))) if len(vertebrae_for_image) > 0 else [0]\n",
    "    padded_labels = pad_list(labels_to_pad)\n",
    "    return create_categories(padded_labels)\n",
    "\n",
    "def preprocess_data():\n",
    "    segmentation_patient_files = os.listdir(SEGMENTATIONS_PATH)\n",
    "    train_images = []\n",
    "    train_image_labels = []\n",
    "\n",
    "    for segmentation_patient_file in segmentation_patient_files:\n",
    "        file_path = os.path.join(SEGMENTATIONS_PATH, segmentation_patient_file)\n",
    "        segmentation_file = nib.load(file_path).get_fdata()\n",
    "        segmentation_file_transposed = segmentation_file[:, ::-1, ::-1].transpose(2, 1, 0)\n",
    "\n",
    "        for slice_number in range(0, len(segmentation_file_transposed)):\n",
    "            dicom_slice = segmentation_file_transposed[slice_number]\n",
    "            vertebrae = np.unique(dicom_slice)\n",
    "            labels = labels_for_image(vertebrae)\n",
    "            train_image_labels.append(labels)\n",
    "            train_images_path = os.path.join(TRAIN_IMAGE_PATH, file_path.split(\"/\")[-1].replace('.nii', \"\"))\n",
    "            image_dir = os.listdir(train_images_path)\n",
    "            image_dir.sort(key=natural_keys)\n",
    "            image_path = os.path.join(train_images_path, image_dir[slice_number])\n",
    "            decoded_image = decode_img(image_path)\n",
    "            train_images.append(decoded_image)\n",
    "\n",
    "     # categories = create_categories(train_image_labels)\n",
    "    dataset_size = len(train_images)\n",
    "    val_size = int(dataset_size * 0.2)\n",
    "    x_t = train_images[val_size:]\n",
    "    y_t = train_image_labels[val_size:]\n",
    "\n",
    "    x_v = train_images[:val_size]\n",
    "    y_v = train_image_labels[:val_size]\n",
    "\n",
    "    return x_t, y_t, x_v, y_v\n",
    "\n",
    "x_train, y_train, x_val, y_val = preprocess_data()"
   ],
   "metadata": {
    "collapsed": false,
    "pycharm": {
     "name": "#%%\n"
    }
   }
  },
  {
   "cell_type": "code",
   "execution_count": 3,
   "outputs": [
    {
     "name": "stderr",
     "output_type": "stream",
     "text": [
      "2022-10-05 20:26:28.215638: W tensorflow/core/framework/cpu_allocator_impl.cc:82] Allocation of 1417674752 exceeds 10% of free system memory.\n"
     ]
    }
   ],
   "source": [
    "def create_dataset(filepaths, labels, is_training=True):\n",
    "\n",
    "    dataset = tf.data.Dataset.from_tensor_slices((filepaths, labels))\n",
    "\n",
    "    if is_training:\n",
    "        dataset = dataset.cache()\n",
    "        dataset = dataset.shuffle(buffer_size=len(filepaths))\n",
    "\n",
    "    dataset = dataset.batch(batch_size)\n",
    "    dataset = dataset.prefetch(buffer_size=AUTOTUNE)\n",
    "\n",
    "    return dataset\n",
    "\n",
    "train_ds = create_dataset(x_train, y_train)\n",
    "val_ds = create_dataset(x_val, y_val)"
   ],
   "metadata": {
    "collapsed": false,
    "pycharm": {
     "name": "#%%\n"
    }
   }
  },
  {
   "cell_type": "code",
   "execution_count": null,
   "outputs": [],
   "source": [
    "for feature, label in train_ds.take(1):\n",
    "    print(f'Feature {feature}')\n",
    "    print(f'Feature shape {feature.shape}')\n",
    "    print(f'Label {label}')\n",
    "    print(f'Label shape {label.shape}')"
   ],
   "metadata": {
    "collapsed": false,
    "pycharm": {
     "name": "#%%\n",
     "is_executing": true
    }
   }
  },
  {
   "cell_type": "code",
   "execution_count": 4,
   "outputs": [
    {
     "name": "stdout",
     "output_type": "stream",
     "text": [
      "Model: \"sequential\"\n",
      "_________________________________________________________________\n",
      " Layer (type)                Output Shape              Param #   \n",
      "=================================================================\n",
      " conv2d (Conv2D)             (None, 512, 512, 16)      160       \n",
      "                                                                 \n",
      " max_pooling2d (MaxPooling2D  (None, 256, 256, 16)     0         \n",
      " )                                                               \n",
      "                                                                 \n",
      " conv2d_1 (Conv2D)           (None, 256, 256, 32)      4640      \n",
      "                                                                 \n",
      " max_pooling2d_1 (MaxPooling  (None, 128, 128, 32)     0         \n",
      " 2D)                                                             \n",
      "                                                                 \n",
      " conv2d_2 (Conv2D)           (None, 128, 128, 64)      18496     \n",
      "                                                                 \n",
      " max_pooling2d_2 (MaxPooling  (None, 64, 64, 64)       0         \n",
      " 2D)                                                             \n",
      "                                                                 \n",
      " flatten (Flatten)           (None, 262144)            0         \n",
      "                                                                 \n",
      " dense (Dense)               (None, 128)               33554560  \n",
      "                                                                 \n",
      " dense_1 (Dense)             (None, 8)                 1032      \n",
      "                                                                 \n",
      "=================================================================\n",
      "Total params: 33,578,888\n",
      "Trainable params: 33,578,888\n",
      "Non-trainable params: 0\n",
      "_________________________________________________________________\n"
     ]
    }
   ],
   "source": [
    "from keras import Sequential\n",
    "import keras.layers as layers\n",
    "from tensorflow import keras\n",
    "\n",
    "def create_model():\n",
    "    # seq_model = Sequential([\n",
    "    #     layers.Conv2D(64, 7, padding='same', activation='relu', input_shape=(512, 512, 1)),\n",
    "    #     layers.MaxPooling2D(),\n",
    "    #     layers.Conv2D(128, 3, padding='same', activation='relu'),\n",
    "    #     layers.Conv2D(128, 3, padding='same', activation='relu'),\n",
    "    #     layers.MaxPooling2D(),\n",
    "    #     layers.Conv2D(256, 3, padding='same', activation='relu'),\n",
    "    #     layers.Conv2D(256, 3, padding='same', activation='relu'),\n",
    "    #     layers.MaxPooling2D(),\n",
    "    #     layers.Flatten(),\n",
    "    #     layers.Dense(128, activation='relu'),\n",
    "    #     layers.Dropout(0.5),\n",
    "    #     layers.Dense(64, activation='relu'),\n",
    "    #     layers.Dropout(0.5),\n",
    "    #     layers.Dense(8, activation='sigmoid')\n",
    "    # ])\n",
    "    seq_model = Sequential([\n",
    "        layers.Conv2D(16, 3, padding='same', activation='relu', input_shape=(512, 512, 1)),\n",
    "        layers.MaxPooling2D(),\n",
    "        layers.Conv2D(32, 3, padding='same', activation='relu'),\n",
    "        layers.MaxPooling2D(),\n",
    "        layers.Conv2D(64, 3, padding='same', activation='relu'),\n",
    "        layers.MaxPooling2D(),\n",
    "        layers.Flatten(),\n",
    "        layers.Dense(128, activation='relu'),\n",
    "        layers.Dense(8, activation='sigmoid')\n",
    "    ])\n",
    "\n",
    "    return seq_model\n",
    "\n",
    "model = create_model()\n",
    "model.compile(optimizer='adam', loss=keras.losses.BinaryCrossentropy(), metrics=['accuracy'])\n",
    "model.summary()\n",
    "# optimizer = keras.optimizers.SGD(learning_rate=0.001)\n",
    "# loss_fn = keras.losses.BinaryCrossentropy()\n",
    "# loss_fn = keras.losses.SparseCategoricalCrossentropy(from_logits=True)\n"
   ],
   "metadata": {
    "collapsed": false,
    "pycharm": {
     "name": "#%%\n"
    }
   }
  },
  {
   "cell_type": "code",
   "execution_count": 5,
   "outputs": [
    {
     "name": "stderr",
     "output_type": "stream",
     "text": [
      "2022-10-05 20:26:43.709867: W tensorflow/core/framework/cpu_allocator_impl.cc:82] Allocation of 1417674752 exceeds 10% of free system memory.\n"
     ]
    },
    {
     "name": "stdout",
     "output_type": "stream",
     "text": [
      "Epoch 1/10\n"
     ]
    },
    {
     "name": "stderr",
     "output_type": "stream",
     "text": [
      "2022-10-05 20:26:44.592791: W tensorflow/core/framework/cpu_allocator_impl.cc:82] Allocation of 1258291200 exceeds 10% of free system memory.\n",
      "2022-10-05 20:26:48.036742: W tensorflow/core/framework/cpu_allocator_impl.cc:82] Allocation of 1258291200 exceeds 10% of free system memory.\n"
     ]
    },
    {
     "name": "stdout",
     "output_type": "stream",
     "text": [
      " 1/10 [==>...........................] - ETA: 48s - loss: 0.7033 - accuracy: 0.0000e+00"
     ]
    },
    {
     "name": "stderr",
     "output_type": "stream",
     "text": [
      "2022-10-05 20:26:49.511737: W tensorflow/core/framework/cpu_allocator_impl.cc:82] Allocation of 1258291200 exceeds 10% of free system memory.\n"
     ]
    },
    {
     "name": "stdout",
     "output_type": "stream",
     "text": [
      "10/10 [==============================] - 44s 4s/step - loss: 3.1681 - accuracy: 0.3698 - val_loss: 0.8351 - val_accuracy: 0.2959\n",
      "Epoch 2/10\n",
      "10/10 [==============================] - 43s 4s/step - loss: 0.1082 - accuracy: 0.6420 - val_loss: 0.7340 - val_accuracy: 0.2485\n",
      "Epoch 3/10\n",
      "10/10 [==============================] - 42s 4s/step - loss: 0.0261 - accuracy: 0.6775 - val_loss: 1.2467 - val_accuracy: 0.1361\n",
      "Epoch 4/10\n",
      "10/10 [==============================] - 41s 4s/step - loss: 0.0382 - accuracy: 0.6213 - val_loss: 1.4319 - val_accuracy: 0.2959\n",
      "Epoch 5/10\n",
      "10/10 [==============================] - 43s 4s/step - loss: 0.0160 - accuracy: 0.6790 - val_loss: 1.4447 - val_accuracy: 0.2959\n",
      "Epoch 6/10\n",
      "10/10 [==============================] - 43s 4s/step - loss: 0.0088 - accuracy: 0.6672 - val_loss: 1.3152 - val_accuracy: 0.2959\n",
      "Epoch 7/10\n",
      "10/10 [==============================] - 42s 4s/step - loss: 0.0427 - accuracy: 0.6686 - val_loss: 0.9651 - val_accuracy: 0.2959\n",
      "Epoch 8/10\n",
      "10/10 [==============================] - 42s 4s/step - loss: 0.0166 - accuracy: 0.6820 - val_loss: 0.9159 - val_accuracy: 0.2959\n",
      "Epoch 9/10\n",
      "10/10 [==============================] - 42s 4s/step - loss: 0.0087 - accuracy: 0.6657 - val_loss: 1.0990 - val_accuracy: 0.2959\n",
      "Epoch 10/10\n",
      "10/10 [==============================] - 41s 4s/step - loss: 0.0104 - accuracy: 0.6598 - val_loss: 1.2773 - val_accuracy: 0.2959\n"
     ]
    }
   ],
   "source": [
    "import time\n",
    "\n",
    "epochs = 10\n",
    "\n",
    "history = model.fit(\n",
    "    train_ds,\n",
    "    epochs=epochs,\n",
    "    validation_data=val_ds,\n",
    ")"
   ],
   "metadata": {
    "collapsed": false,
    "pycharm": {
     "name": "#%%\n"
    }
   }
  },
  {
   "cell_type": "code",
   "execution_count": 6,
   "outputs": [
    {
     "data": {
      "text/plain": "<Figure size 800x800 with 2 Axes>",
      "image/png": "[encoded data removed]"
     },
     "metadata": {},
     "output_type": "display_data"
    }
   ],
   "source": [
    "acc = history.history['accuracy']\n",
    "val_acc = history.history['val_accuracy']\n",
    "\n",
    "loss = history.history['loss']\n",
    "val_loss = history.history['val_loss']\n",
    "\n",
    "epochs_range = range(epochs)\n",
    "\n",
    "plt.figure(figsize=(8, 8))\n",
    "plt.subplot(1, 2, 1)\n",
    "plt.plot(epochs_range, acc, label='Training Accuracy')\n",
    "plt.plot(epochs_range, val_acc, label='Validation Accuracy')\n",
    "plt.legend(loc='lower right')\n",
    "plt.title('Training and Validation Accuracy')\n",
    "\n",
    "plt.subplot(1, 2, 2)\n",
    "plt.plot(epochs_range, loss, label='Training Loss')\n",
    "plt.plot(epochs_range, val_loss, label='Validation Loss')\n",
    "plt.legend(loc='upper right')\n",
    "plt.title('Training and Validation Loss')\n",
    "plt.show()"
   ],
   "metadata": {
    "collapsed": false,
    "pycharm": {
     "name": "#%%\n"
    }
   }
  },
  {
   "cell_type": "code",
   "execution_count": null,
   "outputs": [],
   "source": [
    "loss_object = tf.keras.losses.SparseCategoricalCrossentropy(from_logits=True)\n",
    "\n",
    "def loss(model, x, y, training):\n",
    "  # training=training is needed only if there are layers with different\n",
    "  # behavior during training versus inference (e.g. Dropout).\n",
    "  y_ = model(x, training=training)\n",
    "\n",
    "  return loss_object(y_true=y, y_pred=y_)\n",
    "\n",
    "# l = loss(model, features, labels, training=False)\n",
    "# print(\"Loss test: {}\".format(l))"
   ],
   "metadata": {
    "collapsed": false,
    "pycharm": {
     "name": "#%%\n"
    }
   }
  },
  {
   "cell_type": "code",
   "execution_count": null,
   "outputs": [],
   "source": [
    "import random\n",
    "\n",
    "#  Loss function for training on breaks\n",
    "\n",
    "def get_weight(key, value):\n",
    "    is_vertebrae = re.match(r'^C[1-9]$', key)\n",
    "    if is_vertebrae and value == 0:\n",
    "        return 1\n",
    "    elif is_vertebrae and value == 1:\n",
    "        return 2\n",
    "    elif key == 'patient_overall' and value == 0:\n",
    "        return 7\n",
    "    elif key == 'patient_overall' and value == 1:\n",
    "        return 14\n",
    "\n",
    "def loss(patient_id):\n",
    "    df = pd.read_csv(TRAIN_CSV_PATH)\n",
    "    patient_row = df.loc[df['StudyInstanceUID'] == patient_id]\n",
    "    total_loss = 0\n",
    "    for i in range(1, patient_row.shape[1]):\n",
    "        key = patient_row.iloc[:, i].name\n",
    "        y_ij = patient_row.iloc[:, i].values[0]\n",
    "        w_j = get_weight(key, y_ij)\n",
    "        p_ij = random.uniform(0, 1)\n",
    "        total_loss += w_j * (y_ij * np.log(p_ij) + (1 - y_ij) * np.log(1 - p_ij))\n",
    "\n",
    "    return total_loss\n",
    "\n",
    "loss('1.2.826.0.1.3680043.780')"
   ],
   "metadata": {
    "collapsed": false,
    "pycharm": {
     "name": "#%%\n"
    }
   }
  },
  {
   "cell_type": "code",
   "execution_count": null,
   "outputs": [],
   "source": [
    "path = os.path.join(CURRENT_DIR_PATH, \"flower_photos/daisy\")\n",
    "list_ds = tf.data.Dataset.list_files(str(f'{path}/*.jpg'))\n",
    "\n",
    "def parse_image(filename):\n",
    "  parts = tf.strings.split(filename, os.sep)\n",
    "  label = parts[-2]\n",
    "\n",
    "  image = tf.io.read_file(filename)\n",
    "  image = tf.io.decode_jpeg(image)\n",
    "  image = tf.image.convert_image_dtype(image, tf.float32)\n",
    "  image = tf.image.resize(image, [128, 128])\n",
    "  return image, label\n",
    "\n",
    "# file_path = next(iter(list_ds))\n",
    "# image, label = parse_image(file_path)\n",
    "\n",
    "def show(image, label):\n",
    "  plt.figure()\n",
    "  plt.imshow(image)\n",
    "  plt.title(label.numpy().decode('utf-8'))\n",
    "  plt.axis('off')\n",
    "\n",
    "images_ds = list_ds.map(parse_image)\n",
    "for image, label in images_ds.take(2):\n",
    "    show(image, label)"
   ],
   "metadata": {
    "collapsed": false,
    "pycharm": {
     "name": "#%%\n"
    }
   }
  },
  {
   "cell_type": "code",
   "execution_count": null,
   "outputs": [],
   "source": [
    "# d = tf.data.Dataset.from_tensor_slices(['hello', 'world'])\n",
    "# def upper_case_fn(t: np.ndarray):\n",
    "#   return t.decode('utf-8').upper()\n",
    "# # d = d.map(lambda x: tf.numpy_function(func=upper_case_fn,\n",
    "# #           inp=[x], Tout=tf.string))\n",
    "# d = d.map(lambda x: upper_case_fn(x))\n",
    "# list(d.as_numpy_iterator())\n",
    "\n",
    "# def add_one(x):\n",
    "#     return x * 200\n",
    "#\n",
    "# dataset = tf.data.Dataset.range(1, 6)  # ==> [ 1, 2, 3, 4, 5 ]\n",
    "# dataset = dataset.map(add_one)\n",
    "# list(dataset.as_numpy_iterator())\n"
   ],
   "metadata": {
    "collapsed": false,
    "pycharm": {
     "name": "#%%\n"
    }
   }
  },
  {
   "cell_type": "code",
   "execution_count": null,
   "outputs": [],
   "source": [],
   "metadata": {
    "collapsed": false,
    "pycharm": {
     "name": "#%%\n"
    }
   }
  }
 ],
 "metadata": {
  "kernelspec": {
   "display_name": "Python 3",
   "language": "python",
   "name": "python3"
  },
  "language_info": {
   "codemirror_mode": {
    "name": "ipython",
    "version": 2
   },
   "file_extension": ".py",
   "mimetype": "text/x-python",
   "name": "python",
   "nbconvert_exporter": "python",
   "pygments_lexer": "ipython2",
   "version": "2.7.6"
  }
 },
 "nbformat": 4,
 "nbformat_minor": 0
}